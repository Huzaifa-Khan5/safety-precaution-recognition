{
 "cells": [
  {
   "cell_type": "code",
   "execution_count": null,
   "id": "6e071180",
   "metadata": {},
   "outputs": [],
   "source": [
    "import torch\n",
    "import numpy as np\n",
    "import face_recognition as fc\n",
    "import joblib\n",
    "import cv2\n",
    "from datetime import datetime, timedelta"
   ]
  },
  {
   "cell_type": "code",
   "execution_count": null,
   "id": "7fcde5c1",
   "metadata": {},
   "outputs": [],
   "source": [
    "with open('face_model.pkl', 'rb') as f:\n",
    "    face_model = joblib.load(f)\n",
    "# Model\n",
    "main_model = torch.hub.load('ultralytics/yolov5', 'custom', path='main_model.pt')\n",
    "face_cascade = cv2.CascadeClassifier(cv2.samples.findFile(cv2.data.haarcascades + 'haarcascade_frontalface_default.xml'))"
   ]
  },
  {
   "cell_type": "code",
   "execution_count": null,
   "id": "fb60d179",
   "metadata": {},
   "outputs": [],
   "source": [
    "def facerecog(vid):\n",
    "  rgb=cv2.cvtColor(vid,cv2.COLOR_BGR2RGB)\n",
    "  Loc=fc.face_locations(rgb)\n",
    "  encodings = fc.face_encodings(rgb,Loc)\n",
    "  for encoding in encodings:\n",
    "    result=fc.compare_faces(face_model[\"encodings\"],encoding)\n",
    "    face_dis=fc.face_distance(face_model[\"encodings\"],encoding)\n",
    "    prob=min(face_dis)\n",
    "    if prob>0.50:\n",
    "      name=\"Unknown\"\n",
    "    else:\n",
    "      if True in result:\n",
    "        matchedIdxs = [i for (i, b) in enumerate(result) if b]\n",
    "        counts = {}\n",
    "        for i in matchedIdxs:\n",
    "          name = face_model[\"names\"][i]\n",
    "          counts[name] = counts.get(name, 0) + 1\n",
    "          name = max(counts, key=counts.get)\n",
    "    return name"
   ]
  },
  {
   "cell_type": "code",
   "execution_count": null,
   "id": "09b71adc",
   "metadata": {},
   "outputs": [],
   "source": [
    "lst = []\n",
    "def detectedPerson(name):\n",
    "    expiration_time = datetime.now() + timedelta(seconds=15)\n",
    "    return dict({\"name\":name,\"exp\":expiration_time})"
   ]
  },
  {
   "cell_type": "code",
   "execution_count": null,
   "id": "6d1d5c88",
   "metadata": {},
   "outputs": [],
   "source": [
    "cap = cv2.VideoCapture(0)\n",
    "while cap.isOpened():\n",
    "    ret, frame = cap.read()\n",
    "    for values in lst:\n",
    "        if values[\"exp\"]<datetime.now():\n",
    "            lst.remove(values)\n",
    "    \n",
    "    # Make detections \n",
    "    results = main_model(img)\n",
    "    # Results\n",
    "  df = results.pandas().xyxy[0]\n",
    "  list1=[]    \n",
    "  for i in df['name']: # name->labels\n",
    "    list1.append(i)  # or .show(), .save(), .crop(), .pandas(), etc.\n",
    "  if (\"helmet\" in lst) and (\"glasses\" in lst) and (\"headphones\" in lst):\n",
    "    continue\n",
    "  else:\n",
    "    final=facerecog(img)\n",
    "    if final==None:\n",
    "      continue\n",
    "    else:\n",
    "      print(final)\n",
    "      duplicate = False\n",
    "      for i in range(len(lst)):\n",
    "        if lst[i][\"name\"] ==final:\n",
    "          duplicate = True\n",
    "      if(duplicate):\n",
    "        print(\"name already added\")\n",
    "      else:\n",
    "        lst.append(detectedPerson(final))\n",
    "    if cv2.waitKey(10) & 0xFF == ord('q'):\n",
    "      break\n",
    "cap.release()\n",
    "cv2.destroyAllWindows()"
   ]
  }
 ],
 "metadata": {
  "kernelspec": {
   "display_name": "Python 3 (ipykernel)",
   "language": "python",
   "name": "python3"
  },
  "language_info": {
   "codemirror_mode": {
    "name": "ipython",
    "version": 3
   },
   "file_extension": ".py",
   "mimetype": "text/x-python",
   "name": "python",
   "nbconvert_exporter": "python",
   "pygments_lexer": "ipython3",
   "version": "3.10.4"
  }
 },
 "nbformat": 4,
 "nbformat_minor": 5
}
