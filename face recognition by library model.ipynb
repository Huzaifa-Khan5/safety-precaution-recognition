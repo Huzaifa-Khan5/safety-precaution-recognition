{
 "cells": [
  {
   "cell_type": "code",
   "execution_count": 1,
   "id": "92867ac7",
   "metadata": {},
   "outputs": [],
   "source": [
    "import cv2\n",
    "import face_recognition as fc\n",
    "import os"
   ]
  },
  {
   "cell_type": "code",
   "execution_count": 2,
   "id": "57f467b6",
   "metadata": {},
   "outputs": [
    {
     "data": {
      "text/plain": [
       "['./face/cropped/Awais',\n",
       " './face/cropped/Khurram',\n",
       " './face/cropped/Saud',\n",
       " './face/cropped/Yasir']"
      ]
     },
     "execution_count": 2,
     "metadata": {},
     "output_type": "execute_result"
    }
   ],
   "source": [
    "img_dirs = []\n",
    "for entry in os.scandir(\"./face/cropped/\"):\n",
    "    if entry.is_dir():\n",
    "        img_dirs.append(entry.path)\n",
    "img_dirs"
   ]
  },
  {
   "cell_type": "code",
   "execution_count": 3,
   "id": "6d77352b",
   "metadata": {},
   "outputs": [
    {
     "data": {
      "text/plain": [
       "{'Awais': ['./face/cropped/Awais\\\\pic1.JPG'],\n",
       " 'Khurram': ['./face/cropped/Khurram\\\\pic7.JPG'],\n",
       " 'Saud': ['./face/cropped/Saud\\\\pic7.JPG'],\n",
       " 'Yasir': ['./face/cropped/Yasir\\\\pic8.JPG']}"
      ]
     },
     "execution_count": 3,
     "metadata": {},
     "output_type": "execute_result"
    }
   ],
   "source": [
    "file_names_dict = {}\n",
    "for img_dir in img_dirs:\n",
    "    name = img_dir.split('/')[-1]\n",
    "    file_list = []\n",
    "    for entry in os.scandir(img_dir):\n",
    "        file_list.append(entry.path)\n",
    "    file_names_dict[name] = file_list\n",
    "file_names_dict"
   ]
  },
  {
   "cell_type": "code",
   "execution_count": 4,
   "id": "d5879134",
   "metadata": {},
   "outputs": [],
   "source": [
    "knownnames=[]\n",
    "knownencodings=[]\n",
    "count=0\n",
    "for name, training_files in file_names_dict.items():\n",
    "    for training_image in training_files:\n",
    "        img = cv2.imread(training_image)\n",
    "        img=cv2.cvtColor(img,cv2.COLOR_BGR2RGB)\n",
    "        encodings = fc.face_encodings(img)\n",
    "        for encoding in encodings:\n",
    "            knownencodings.append(encoding)\n",
    "            knownnames.append(name)\n",
    "data = {\"encodings\": knownencodings, \"names\": knownnames}"
   ]
  },
  {
   "cell_type": "code",
   "execution_count": 5,
   "id": "d9b0d988",
   "metadata": {},
   "outputs": [
    {
     "data": {
      "text/plain": [
       "['model.pkl']"
      ]
     },
     "execution_count": 5,
     "metadata": {},
     "output_type": "execute_result"
    }
   ],
   "source": [
    "import joblib \n",
    "# Save the model as a pickle in a file \n",
    "joblib.dump(data, 'model.pkl')"
   ]
  }
 ],
 "metadata": {
  "kernelspec": {
   "display_name": "Python 3 (ipykernel)",
   "language": "python",
   "name": "python3"
  },
  "language_info": {
   "codemirror_mode": {
    "name": "ipython",
    "version": 3
   },
   "file_extension": ".py",
   "mimetype": "text/x-python",
   "name": "python",
   "nbconvert_exporter": "python",
   "pygments_lexer": "ipython3",
   "version": "3.10.4"
  }
 },
 "nbformat": 4,
 "nbformat_minor": 5
}
